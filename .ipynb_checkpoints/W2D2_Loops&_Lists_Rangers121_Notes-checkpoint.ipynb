{
 "cells": [
  {
   "cell_type": "markdown",
   "metadata": {},
   "source": [
    "# Functions, Scoping, Data Collections 1 & List Comprehensions"
   ]
  },
  {
   "cell_type": "markdown",
   "metadata": {},
   "source": [
    "## Tasks Today:\n",
    "\n",
    "<i>Monday Additions (for loops)</i>\n",
    "\n",
    "1) For Loops <br>\n",
    " &nbsp;&nbsp;&nbsp;&nbsp; a) Using 'in' keyword <br>\n",
    " &nbsp;&nbsp;&nbsp;&nbsp; b) Continue Statement <br>\n",
    " &nbsp;&nbsp;&nbsp;&nbsp; c) Break Statement <br>\n",
    " &nbsp;&nbsp;&nbsp;&nbsp; d) Pass Statement <br>\n",
    " &nbsp;&nbsp;&nbsp;&nbsp; e) Double For Loops <br>\n",
    "2) While Loops <br>\n",
    " &nbsp;&nbsp;&nbsp;&nbsp; a) Looping 'While True' <br>\n",
    " &nbsp;&nbsp;&nbsp;&nbsp; b) While and For Loops Used Together <br>\n",
    " \n",
    "3) Lists <br>\n",
    " &nbsp;&nbsp;&nbsp;&nbsp; a) Declaring Lists <br>\n",
    " &nbsp;&nbsp;&nbsp;&nbsp; b) Indexing a List <br>\n",
    " &nbsp;&nbsp;&nbsp;&nbsp; c) .append() <br>\n",
    " &nbsp;&nbsp;&nbsp;&nbsp; d) .insert() <br>\n",
    " &nbsp;&nbsp;&nbsp;&nbsp; e) .pop() <br>\n",
    " &nbsp;&nbsp;&nbsp;&nbsp; f) .remove() <br>\n",
    " &nbsp;&nbsp;&nbsp;&nbsp; g) del() <br>\n",
    " &nbsp;&nbsp;&nbsp;&nbsp; h) Concatenating Two Lists <br>\n",
    " &nbsp;&nbsp;&nbsp;&nbsp; i) Lists Within Lists <br>\n",
    " &nbsp;&nbsp;&nbsp;&nbsp; j) Looping Through Lists <br>\n",
    "4) Working With Lists <br>\n",
    " &nbsp;&nbsp;&nbsp;&nbsp; a) min() <br>\n",
    " &nbsp;&nbsp;&nbsp;&nbsp; b) max() <br>\n",
    " &nbsp;&nbsp;&nbsp;&nbsp; c) sum() <br>\n",
    " &nbsp;&nbsp;&nbsp;&nbsp; d) sort() <br>\n",
    " &nbsp;&nbsp;&nbsp;&nbsp; e) Copying a List <br>\n",
    " &nbsp;&nbsp;&nbsp;&nbsp; f) 'in' keyword <br>\n",
    " &nbsp;&nbsp;&nbsp;&nbsp; g) 'not in' keyword <br>\n",
    " &nbsp;&nbsp;&nbsp;&nbsp; i) Checking an Empty List <br>\n",
    " &nbsp;&nbsp;&nbsp;&nbsp; j) Removing Instances with a Loop <br> \n",
    "5) List Comprehensions <br>\n",
    "6) Tuples <br>\n",
    " &nbsp;&nbsp;&nbsp;&nbsp; a) sorted() <br>\n"
   ]
  },
  {
   "cell_type": "markdown",
   "metadata": {},
   "source": [
    "### For Loops"
   ]
  },
  {
   "cell_type": "code",
   "execution_count": null,
   "metadata": {},
   "outputs": [],
   "source": [
    "# for keyword, counter/iterator, in keyword, object\n",
    "\n",
    "for i in range(10):\n",
    "    print(i)\n",
    "\n",
    "print(\"\\n\")\n",
    "name = \"Marc Engle\"\n",
    "for letter in name:\n",
    "    if letter == \" \":\n",
    "        print(\"This is a space!\")\n",
    "    else:\n",
    "        print(letter)\n",
    "\n",
    "    \n"
   ]
  },
  {
   "cell_type": "markdown",
   "metadata": {},
   "source": [
    "##### Using 'in' keyword"
   ]
  },
  {
   "cell_type": "code",
   "execution_count": null,
   "metadata": {},
   "outputs": [],
   "source": [
    "#in is what accesses the items in an iterable\n",
    "for num in range(15):\n",
    "    print(num**2)"
   ]
  },
  {
   "cell_type": "markdown",
   "metadata": {},
   "source": [
    "##### Continue Statement"
   ]
  },
  {
   "cell_type": "code",
   "execution_count": null,
   "metadata": {},
   "outputs": [],
   "source": [
    "#continue\n",
    "\n",
    "for i in range(5):\n",
    "    print(i)\n",
    "for i in range(10):\n",
    "    if i == 5 or i == 6:\n",
    "        continue\n",
    "    print(i)\n"
   ]
  },
  {
   "cell_type": "markdown",
   "metadata": {},
   "source": [
    "##### Break Statement"
   ]
  },
  {
   "cell_type": "code",
   "execution_count": null,
   "metadata": {},
   "outputs": [],
   "source": [
    "#will break out of current loop\n",
    "for i in range(25):\n",
    "    if i == 23:\n",
    "        break\n",
    "    print(i)\n"
   ]
  },
  {
   "cell_type": "markdown",
   "metadata": {},
   "source": [
    "##### Pass Statement"
   ]
  },
  {
   "cell_type": "code",
   "execution_count": null,
   "metadata": {},
   "outputs": [],
   "source": [
    "# mostly used as a placeholder, and will continue on same iteration\n",
    "for i in range(1234):\n",
    "    pass\n",
    "    \n",
    "for i in range(10):\n",
    "    print(i)\n",
    "    \n",
    "def do_this_later():\n",
    "    # This function is going to do great things\n",
    "    # remember to do stuff with this funciton\n",
    "    pass"
   ]
  },
  {
   "cell_type": "markdown",
   "metadata": {},
   "source": [
    "##### Double For Loops"
   ]
  },
  {
   "cell_type": "code",
   "execution_count": null,
   "metadata": {},
   "outputs": [],
   "source": [
    "for i in range(5):\n",
    "    print(\"i = \", i)\n",
    "    for j in range(5):\n",
    "        print(\"j = \", j)"
   ]
  },
  {
   "cell_type": "markdown",
   "metadata": {},
   "source": [
    "### While Loops"
   ]
  },
  {
   "cell_type": "code",
   "execution_count": null,
   "metadata": {},
   "outputs": [],
   "source": [
    "#while keyword, condition statement\n",
    "#while loop will run based on the condition statement\n",
    "\n",
    "counter = 0\n",
    "while counter < 11:\n",
    "    counter += 1\n",
    "    print(counter)\n",
    "    \n",
    "counter1 = 1\n",
    "while counter1 < 100:\n",
    "    print(counter1)\n",
    "    counter1 += 2\n",
    "\n"
   ]
  },
  {
   "cell_type": "markdown",
   "metadata": {},
   "source": [
    "##### looping 'While True'"
   ]
  },
  {
   "cell_type": "code",
   "execution_count": 9,
   "metadata": {},
   "outputs": [
    {
     "name": "stdout",
     "output_type": "stream",
     "text": [
      "Infinite Loops\n",
      "Infinite Loops\n",
      "Infinite Loops\n",
      "Infinite Loops\n",
      "Infinite Loops\n",
      "Infinite Loops\n",
      "Infinite Loops\n",
      "Infinite Loops\n",
      "Infinite Loops\n",
      "Infinite Loops\n"
     ]
    }
   ],
   "source": [
    "# true as a condition for while loop to run\n",
    "game_over = True\n",
    "counter = 0\n",
    "while game_over:\n",
    "    counter += 1\n",
    "    print(\"Infinite Loops\")\n",
    "    if counter == 10:\n",
    "        game_over = False\n",
    "        \n"
   ]
  },
  {
   "cell_type": "markdown",
   "metadata": {},
   "source": [
    "##### While & For Loops Used Together"
   ]
  },
  {
   "cell_type": "code",
   "execution_count": null,
   "metadata": {},
   "outputs": [],
   "source": [
    "j = 0\n",
    "\n",
    "while j < 10:\n",
    "    print(\"\\n WHile loop iteration: \" + str(j))\n",
    "    for i in range(2):\n",
    "        print (\"For loop iteration: \" + str(1))\n",
    "        \n",
    "    j += 1"
   ]
  },
  {
   "cell_type": "markdown",
   "metadata": {},
   "source": [
    "##### The Range Function"
   ]
  },
  {
   "cell_type": "code",
   "execution_count": 5,
   "metadata": {},
   "outputs": [
    {
     "name": "stdout",
     "output_type": "stream",
     "text": [
      "0\n",
      "1\n",
      "2\n",
      "3\n",
      "4\n",
      "5\n",
      "6\n",
      "7\n",
      "8\n",
      "9\n",
      "\n",
      "\n",
      "2\n",
      "3\n",
      "4\n",
      "5\n",
      "6\n",
      "7\n",
      "8\n",
      "9\n",
      "\n",
      "\n",
      "1\n",
      "4\n",
      "7\n",
      "10\n",
      "13\n",
      "16\n",
      "19\n"
     ]
    }
   ],
   "source": [
    "# range(start, stop, step) - stop is required and start defaults to 0 if none is given\n",
    "for i in range(10): #stop\n",
    "    print(i)\n",
    "print(\"\\n\")\n",
    "for i in range(2, 10): #start and stop\n",
    "    print(i)\n",
    "print(\"\\n\")  \n",
    "for i in range(1, 20, 3): #start, stop, step\n",
    "    print(i)"
   ]
  },
  {
   "cell_type": "markdown",
   "metadata": {},
   "source": [
    "### String Manipulation Exercise"
   ]
  },
  {
   "cell_type": "code",
   "execution_count": 32,
   "metadata": {
    "scrolled": true
   },
   "outputs": [
    {
     "name": "stdout",
     "output_type": "stream",
     "text": [
      "Connor\n",
      "Max\n",
      "Evan\n",
      "Jordan\n"
     ]
    }
   ],
   "source": [
    "names = ['    coNNor', 'max', ' EVan ', 'JORDAN']\n",
    "# HINT: You will need to use a for loop for iteration\n",
    "# Loop through the names list, remove white space and capitalize the first letter of each name. Print each new name.\n",
    "\n",
    "for item in names:\n",
    "    print(item.strip().title())\n",
    "    \n"
   ]
  },
  {
   "cell_type": "markdown",
   "metadata": {},
   "source": [
    "## Lists"
   ]
  },
  {
   "cell_type": "markdown",
   "metadata": {},
   "source": [
    "##### Declaring Lists"
   ]
  },
  {
   "cell_type": "code",
   "execution_count": 35,
   "metadata": {},
   "outputs": [
    {
     "name": "stdout",
     "output_type": "stream",
     "text": [
      "['Ryan', 'Alex', 'Kate', 'Saraa', 'Sam', 'Gus']\n",
      "[1, 2, 3, 4, 6, 7, 4, 5, 2]\n",
      "[1, 3, 4.5, 7.6, 'cool stuff', ['hello', 'goodbye']]\n"
     ]
    }
   ],
   "source": [
    "our_list = [] # <-- empty list\n",
    "#list will always be square brackets\n",
    "\n",
    "names = [\"Ryan\", \"Alex\", \"Kate\", \"Saraa\", \"Sam\", \"Gus\"]\n",
    "\n",
    "numbers = [1,2,3,4,6,7,4,5,2]\n",
    "\n",
    "print(names)\n",
    "print(numbers)\n",
    "\n",
    "stuff = [1, 3, 4.5, 7.6, \"cool stuff\", ['hello', 'goodbye']]\n",
    "print(stuff)"
   ]
  },
  {
   "cell_type": "markdown",
   "metadata": {},
   "source": [
    "##### Indexing a List"
   ]
  },
  {
   "cell_type": "code",
   "execution_count": 42,
   "metadata": {},
   "outputs": [
    {
     "name": "stdout",
     "output_type": "stream",
     "text": [
      "Alex\n",
      "Ryan\n",
      "Gus\n",
      "\n",
      "\n",
      "['Alex', 'Kate', 'Saraa', 'Sam', 'Gus']\n",
      "['Kate', 'Saraa', 'Sam', 'Gus']\n",
      "\n",
      "\n",
      "['Ryan', 'Alex']\n",
      "\n",
      "\n",
      "['Alex', 'Saraa', 'Gus']\n",
      "['Gus', 'Sam', 'Saraa', 'Kate', 'Alex', 'Ryan']\n",
      "['Gus', 'Sam', 'Saraa', 'Kate', 'Alex', 'Ryan']\n"
     ]
    }
   ],
   "source": [
    "# [start: stop: step] --> last item [-1]\n",
    "names = [\"Ryan\", \"Alex\", \"Kate\", \"Saraa\", \"Sam\", \"Gus\"]\n",
    "\n",
    "#single index\n",
    "print(names[1])\n",
    "name = names[0]\n",
    "print(name)\n",
    "print(names[-1]) #-1 will always be the last item in a list\n",
    "\n",
    "print(\"\\n\")\n",
    "#print starting at index 1 and going to the end of the list\n",
    "print(names[1:])\n",
    "new_names = names[2:]\n",
    "print(new_names)\n",
    "\n",
    "print(\"\\n\")\n",
    "#print starting at the beginning of the list and going to a specified index (just like range it is non-inclusive)\n",
    "print(names[:2])\n",
    "print(\"\\n\")\n",
    "\n",
    "#print starting at index 1 and stepping by 2\n",
    "print(names[1::2])\n",
    "\n",
    "#print starting at the back and go to the front of the list\n",
    "print(names[::-1])\n",
    "reverse_list = names[::-1]\n",
    "print(reverse_list)\n"
   ]
  },
  {
   "cell_type": "markdown",
   "metadata": {},
   "source": [
    "### List Methods"
   ]
  },
  {
   "cell_type": "markdown",
   "metadata": {},
   "source": [
    "##### .append()"
   ]
  },
  {
   "cell_type": "code",
   "execution_count": 44,
   "metadata": {},
   "outputs": [
    {
     "name": "stdout",
     "output_type": "stream",
     "text": [
      "['Ryan', 'Alex', 'Kate', 'Saraa', 'Sam', 'Gus', 'Derrick']\n",
      "['Ryan', 'Alex', 'Kate', 'Saraa', 'Sam', 'Gus', 'Derrick', 'Aryan']\n"
     ]
    }
   ],
   "source": [
    "#always adds an element to the end of a list\n",
    "#our_list.append(thing we're appending)\n",
    "names = [\"Ryan\", \"Alex\", \"Kate\", \"Saraa\", \"Sam\", \"Gus\"]\n",
    "\n",
    "names.append('Derrick')\n",
    "print(names)\n",
    "\n",
    "names.append(\"Aryan\")\n",
    "print(names)"
   ]
  },
  {
   "cell_type": "markdown",
   "metadata": {},
   "source": [
    "##### .insert()"
   ]
  },
  {
   "cell_type": "code",
   "execution_count": 49,
   "metadata": {},
   "outputs": [
    {
     "name": "stdout",
     "output_type": "stream",
     "text": [
      "['Ryan', 'Alex', 'Marc', 'Kate', 'Saraa', 'Sam', 'Gus']\n",
      "['Ryan', 'Alex', 'Marc', 'Kate', 'Saraa', 'Sam', 'Gus', 'Eduardo', 'Eduardo']\n"
     ]
    }
   ],
   "source": [
    "#our_list.insert(index, value)\n",
    "names = [\"Ryan\", \"Alex\", \"Kate\", \"Saraa\", \"Sam\", \"Gus\"]\n",
    "\n",
    "names.insert(2, \"Marc\")\n",
    "print(names)\n",
    "\n",
    "names.insert(len(names), \"Eduardo\")\n",
    "names.append(\"Eduardo\")\n",
    "print(names)\n"
   ]
  },
  {
   "cell_type": "markdown",
   "metadata": {},
   "source": [
    "##### .pop()"
   ]
  },
  {
   "cell_type": "code",
   "execution_count": 56,
   "metadata": {},
   "outputs": [
    {
     "name": "stdout",
     "output_type": "stream",
     "text": [
      "['Alex', 'Kate', 'Saraa', 'Sam', 'Gus']\n",
      "Saraa\n",
      "['Alex', 'Kate', 'Sam', 'Gus']\n",
      "['Alex', 'Kate', 'Sam']\n"
     ]
    }
   ],
   "source": [
    "# default is the last value if no parameter is given\n",
    "# pop returns the element that was removed in case you want to assign it into a variable\n",
    "\n",
    "names = [\"Ryan\", \"Alex\", \"Kate\", \"Saraa\", \"Sam\", \"Gus\"]\n",
    "names.pop(0)\n",
    "print(names)\n",
    "\n",
    "popped_friend = names.pop(2)\n",
    "print(popped_friend)\n",
    "print(names)\n",
    "\n",
    "names.pop()\n",
    "print(names)\n",
    "\n",
    "\n",
    "\n",
    "\n"
   ]
  },
  {
   "cell_type": "markdown",
   "metadata": {},
   "source": [
    "##### .remove()"
   ]
  },
  {
   "cell_type": "code",
   "execution_count": 61,
   "metadata": {},
   "outputs": [
    {
     "name": "stdout",
     "output_type": "stream",
     "text": [
      "['Billy', 'Berry', 'Bertha', 'Bob', 'Bert']\n"
     ]
    }
   ],
   "source": [
    "# value to be removed, not an index\n",
    "names = ['Bob', 'Billy', 'Berry', \"Bob\", \"Bertha\", 'Bob', \"Bob\", 'Bert']\n",
    "\n",
    "for name in names:\n",
    "    if name == \"Bob\":\n",
    "        names.remove(name)\n",
    "\n",
    "print(names)"
   ]
  },
  {
   "cell_type": "code",
   "execution_count": 62,
   "metadata": {},
   "outputs": [
    {
     "name": "stdout",
     "output_type": "stream",
     "text": [
      "['Billy', 'Berry', 'Bertha', 'Bert']\n"
     ]
    }
   ],
   "source": [
    "names = ['Bob', 'Billy', 'Berry', \"Bob\", \"Bertha\", 'Bob', \"Bob\", 'Bert']\n",
    "\n",
    "while \"Bob\" in names:\n",
    "    names.remove(\"Bob\")\n",
    "    \n",
    "print(names)"
   ]
  },
  {
   "cell_type": "markdown",
   "metadata": {},
   "source": [
    "### Working With Lists"
   ]
  },
  {
   "cell_type": "markdown",
   "metadata": {},
   "source": [
    "##### del()"
   ]
  },
  {
   "cell_type": "code",
   "execution_count": 65,
   "metadata": {},
   "outputs": [
    {
     "name": "stdout",
     "output_type": "stream",
     "text": [
      "['Billy', 'Berry', 'Bob', 'Bertha', 'Bob', 'Bob', 'Bert']\n"
     ]
    }
   ],
   "source": [
    "# index to be removed, not value \n",
    "names = ['Bob', 'Billy', 'Berry', \"Bob\", \"Bertha\", 'Bob', \"Bob\", 'Bert']\n",
    "\n",
    "del(names[0])\n",
    "print(names)\n",
    "\n",
    "#del(names)\n",
    "#print(names)\n"
   ]
  },
  {
   "cell_type": "markdown",
   "metadata": {},
   "source": [
    "##### min()"
   ]
  },
  {
   "cell_type": "code",
   "execution_count": 67,
   "metadata": {},
   "outputs": [
    {
     "name": "stdout",
     "output_type": "stream",
     "text": [
      "1\n",
      "Alphalpha\n"
     ]
    }
   ],
   "source": [
    "# return the smallest item in a list\n",
    "numbers = [2, 5, 3, 12, 1, 54]\n",
    "\n",
    "print(min(numbers))\n",
    "\n",
    "names = [\"Alphalpha\", \"Zoop\", \"Winifred\", \"alfred\"]\n",
    "#Prioritizes capital letters over lower case and goes in alphabetical order\n",
    "print(min(names))"
   ]
  },
  {
   "cell_type": "markdown",
   "metadata": {},
   "source": [
    "##### max()"
   ]
  },
  {
   "cell_type": "code",
   "execution_count": 69,
   "metadata": {},
   "outputs": [
    {
     "name": "stdout",
     "output_type": "stream",
     "text": [
      "54\n",
      "alfred\n"
     ]
    }
   ],
   "source": [
    "# returns largest item in a list\n",
    "numbers = [2, 5, 3, 12, 1, 54]\n",
    "print(max(numbers))\n",
    "#Prioritizes lower case letters\n",
    "names = [\"Alphalpha\", \"Zoop\", \"Winifred\", \"alfred\"]\n",
    "print(max(names))\n"
   ]
  },
  {
   "cell_type": "markdown",
   "metadata": {},
   "source": [
    "##### sum()"
   ]
  },
  {
   "cell_type": "code",
   "execution_count": 70,
   "metadata": {},
   "outputs": [
    {
     "name": "stdout",
     "output_type": "stream",
     "text": [
      "77\n"
     ]
    }
   ],
   "source": [
    "# return the sum of all numbers in a list\n",
    "numbers = [2, 5, 3, 12, 1, 54]\n",
    "\n",
    "print(sum(numbers))\n",
    "\n",
    "\n"
   ]
  },
  {
   "cell_type": "markdown",
   "metadata": {},
   "source": [
    "##### sorted()"
   ]
  },
  {
   "cell_type": "code",
   "execution_count": 74,
   "metadata": {},
   "outputs": [
    {
     "name": "stdout",
     "output_type": "stream",
     "text": [
      "[1, 2, 3, 5, 12, 54]\n",
      "[2, 5, 3, 12, 1, 54]\n",
      "[1, 2, 3, 5, 12, 54]\n",
      "[2, 5, 3, 12, 1, 54]\n"
     ]
    }
   ],
   "source": [
    "#sorted will return a new sorted list, create a new variable\n",
    "numbers = [2, 5, 3, 12, 1, 54]\n",
    "\n",
    "print(sorted(numbers))\n",
    "\n",
    "print(numbers)\n",
    "\n",
    "sorted_list = sorted(numbers)\n",
    "print(sorted_list)\n",
    "\n",
    "print(numbers)\n"
   ]
  },
  {
   "cell_type": "markdown",
   "metadata": {},
   "source": [
    "##### .sort() <br>\n",
    "<p>Difference between sort and sorted, is that sorted doesn't change original list it returns a copy, while .sort changes the original list</p>"
   ]
  },
  {
   "cell_type": "code",
   "execution_count": 80,
   "metadata": {},
   "outputs": [
    {
     "name": "stdout",
     "output_type": "stream",
     "text": [
      "[1, 2, 3, 5, 12, 54]\n"
     ]
    }
   ],
   "source": [
    "#.sort() will sort the original list\n",
    "numbers = [2, 5, 3, 12, 1, 54]\n",
    "\n",
    "numbers.sort()\n",
    "\n",
    "print(numbers)"
   ]
  },
  {
   "cell_type": "code",
   "execution_count": 81,
   "metadata": {},
   "outputs": [
    {
     "name": "stdout",
     "output_type": "stream",
     "text": [
      "None\n"
     ]
    }
   ],
   "source": [
    "#sorted_list = numbers.sort()\n",
    "\n",
    "#print(sorted_list)"
   ]
  },
  {
   "cell_type": "markdown",
   "metadata": {},
   "source": [
    "##### Copying a List"
   ]
  },
  {
   "cell_type": "code",
   "execution_count": 82,
   "metadata": {},
   "outputs": [
    {
     "name": "stdout",
     "output_type": "stream",
     "text": [
      "This is my original list [2, 5, 3, 12, 1, 54]\n",
      "This is my copy: [2, 5, 3, 12, 1, 54]\n"
     ]
    }
   ],
   "source": [
    "# [:] copies a list, doesn't alter original'\n",
    "numbers = [2, 5, 3, 12, 1, 54]\n",
    "\n",
    "list_copy = numbers[:]\n",
    "\n",
    "print(\"This is my original list\", numbers)\n",
    "\n",
    "print(f\"This is my copy: {list_copy}\")\n"
   ]
  },
  {
   "cell_type": "markdown",
   "metadata": {},
   "source": [
    "##### Looping Through Lists"
   ]
  },
  {
   "cell_type": "code",
   "execution_count": null,
   "metadata": {},
   "outputs": [],
   "source": [
    "#Two ways to loop through a list. one is by index and the other is by value, using the \"in\" keyword\n",
    "names = [\"Han Solo\", \"Leia Organa\", \"Luke Skywalker\", \"Lando Calrissian\", \"Mace Windu\"]\n"
   ]
  },
  {
   "cell_type": "markdown",
   "metadata": {},
   "source": [
    "##### 'in' keyword"
   ]
  },
  {
   "cell_type": "code",
   "execution_count": null,
   "metadata": {},
   "outputs": [],
   "source": [
    "names = [\"Ryan\", \"Alex\", \"Tenzin\", \"Austin\", \"Jeong\", \"Nate\"]\n",
    "\n"
   ]
  },
  {
   "cell_type": "markdown",
   "metadata": {},
   "source": [
    "##### 'not in' keyword"
   ]
  },
  {
   "cell_type": "code",
   "execution_count": null,
   "metadata": {},
   "outputs": [],
   "source": [
    "names = [\"Ryan\", \"Alex\", \"Tenzin\", \"Austin\", \"Jeong\", \"Nate\"]\n"
   ]
  },
  {
   "cell_type": "markdown",
   "metadata": {},
   "source": [
    "##### Checking an Empty List"
   ]
  },
  {
   "cell_type": "code",
   "execution_count": null,
   "metadata": {},
   "outputs": [],
   "source": [
    "l_2 = []\n",
    "l_3 = None\n",
    "if l_2 == []:\n",
    "    print(\"That is an empty list. Would ya just look at it\")\n",
    "    \n",
    "if l_3 == l_2:\n",
    "    print(\"yes\")\n",
    "else: \n",
    "    print(\"no\")"
   ]
  },
  {
   "cell_type": "markdown",
   "metadata": {},
   "source": [
    "##### Removing Instances with a Loop"
   ]
  },
  {
   "cell_type": "code",
   "execution_count": null,
   "metadata": {},
   "outputs": [],
   "source": [
    "#while, remove\n"
   ]
  },
  {
   "cell_type": "markdown",
   "metadata": {},
   "source": [
    "### List Exercise <br>\n",
    "<p>Remove all duplicates<br><b>Extra: Create a program that will remove any duplicates from a given list</b></p>"
   ]
  },
  {
   "cell_type": "code",
   "execution_count": null,
   "metadata": {},
   "outputs": [],
   "source": [
    "names = ['connor', 'connor', 'bob', 'connor', 'evan', 'max', 'evan', 2, 2, 2, 3, 3, 4, 'bob', 'kevin']\n",
    "# Hint 1: You will need an append\n",
    "# Hint 2: Using an empty list will make life easier\n",
    "\n",
    "\n"
   ]
  },
  {
   "cell_type": "markdown",
   "metadata": {},
   "source": [
    "### List Comprehensions <br>\n",
    "<p>Creating a quickly generated list to work with<br>*result*  = [*transform*    *iteration*         *filter*     ]</p>"
   ]
  },
  {
   "cell_type": "markdown",
   "metadata": {},
   "source": [
    "##### In a list comprehension we have a few pieces:\n",
    "1. The first is the counter/ variable - IN this the variable is x\n",
    "2. then we have a transform for the variable\n",
    "3. The finale part of a list comp is called the condition\n",
    "\n",
    "```python\n",
    "    [transform, iteration/variable, condition]\n",
    "```"
   ]
  },
  {
   "cell_type": "code",
   "execution_count": null,
   "metadata": {
    "scrolled": true
   },
   "outputs": [],
   "source": [
    "nums = [2, 4, 5, 6, 7, 8, 9, 10]\n",
    "nums_squared = []\n",
    "\n"
   ]
  },
  {
   "cell_type": "markdown",
   "metadata": {},
   "source": [
    "There are a few benefits to using List comprehensions. The most obvious would be that we now have shorter code to work with instead of using 3+ lines of code in the for loop variant.\n",
    "\n",
    "Another is an added benefit to memory usage. Since the list's memory is allocated first before adding elements to it, we don't have to resize the list once we add elements to it.\n",
    "\n",
    "Lastly, list comprehensions are considered the \"pythonic\" way to write code by the PEP8 standards (Python Style Guide)"
   ]
  },
  {
   "cell_type": "markdown",
   "metadata": {},
   "source": [
    "### Tuples <br>\n",
    "<p><b>Defined as an immutable list</b></p><br>Seperated by commas using parenthesis"
   ]
  },
  {
   "cell_type": "code",
   "execution_count": null,
   "metadata": {},
   "outputs": [],
   "source": []
  },
  {
   "cell_type": "markdown",
   "metadata": {},
   "source": [
    "##### sorted()"
   ]
  },
  {
   "cell_type": "code",
   "execution_count": null,
   "metadata": {},
   "outputs": [],
   "source": []
  },
  {
   "cell_type": "markdown",
   "metadata": {},
   "source": [
    "##### Adding values to a Tuple"
   ]
  },
  {
   "cell_type": "code",
   "execution_count": null,
   "metadata": {},
   "outputs": [],
   "source": []
  },
  {
   "cell_type": "markdown",
   "metadata": {},
   "source": [
    "# Exercises"
   ]
  },
  {
   "cell_type": "markdown",
   "metadata": {},
   "source": [
    "## Exercise 1 <br>\n",
    "<p>Using the given list, print out a filtered version of the list with only the numbers that are less than ten</b></i></p><br>\n"
   ]
  },
  {
   "cell_type": "code",
   "execution_count": null,
   "metadata": {},
   "outputs": [],
   "source": [
    "alist = [1,11,14,5,8,9]\n",
    "\n",
    "\n",
    "\n"
   ]
  },
  {
   "cell_type": "markdown",
   "metadata": {},
   "source": [
    "## Exercise 2 <br>\n",
    "<p>Merge and sort the two lists below<br>\n",
    "<b><i>Hint: You can use the .sort() method</i></b></p>"
   ]
  },
  {
   "cell_type": "code",
   "execution_count": null,
   "metadata": {},
   "outputs": [],
   "source": [
    "l_1 = [1,2,3,4,5,6]\n",
    "l_2 = [3,4,5,6,7,8,10]\n",
    "\n",
    "\n",
    "\n"
   ]
  },
  {
   "cell_type": "markdown",
   "metadata": {},
   "source": [
    "## Exercise 3 <br>\n",
    "<p>Square every number from 1 to 15<br>\n"
   ]
  },
  {
   "cell_type": "code",
   "execution_count": null,
   "metadata": {},
   "outputs": [],
   "source": []
  },
  {
   "cell_type": "markdown",
   "metadata": {},
   "source": [
    "## Exercise 4<br>\n",
    "<p>Using List Comprehension and the given list, print out a filtered list with \n",
    "only the names that start with the letter 'a'. \n",
    "The names in the outputted list should be title cased and have no whitespace.<br>\n"
   ]
  },
  {
   "cell_type": "code",
   "execution_count": null,
   "metadata": {},
   "outputs": [],
   "source": [
    "names_list = ['   amy', 'Briant', 'Ryan ', ' Alex', 'steve', '  ']\n",
    "#expected output = ['Amy', 'Alex']"
   ]
  },
  {
   "cell_type": "markdown",
   "metadata": {},
   "source": [
    "## Exercise 5 <br>\n",
    "<p>Print all Prime numbers from 1 to 100<br>\n"
   ]
  },
  {
   "cell_type": "code",
   "execution_count": null,
   "metadata": {},
   "outputs": [],
   "source": []
  }
 ],
 "metadata": {
  "kernelspec": {
   "display_name": "Python 3 (ipykernel)",
   "language": "python",
   "name": "python3"
  },
  "language_info": {
   "codemirror_mode": {
    "name": "ipython",
    "version": 3
   },
   "file_extension": ".py",
   "mimetype": "text/x-python",
   "name": "python",
   "nbconvert_exporter": "python",
   "pygments_lexer": "ipython3",
   "version": "3.11.3"
  }
 },
 "nbformat": 4,
 "nbformat_minor": 2
}
